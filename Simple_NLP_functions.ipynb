{
 "cells": [
  {
   "cell_type": "code",
   "execution_count": 11,
   "id": "6611ed27",
   "metadata": {},
   "outputs": [
    {
     "name": "stdout",
     "output_type": "stream",
     "text": [
      "Sentiment scores for text1: {'neg': 0.0, 'neu': 0.662, 'pos': 0.338, 'compound': 0.6239}\n",
      "Sentiment scores for text2: {'neg': 0.421, 'neu': 0.579, 'pos': 0.0, 'compound': -0.6249}\n",
      "Sentiment scores for text3: {'neg': 0.154, 'neu': 0.575, 'pos': 0.271, 'compound': 0.3875}\n"
     ]
    }
   ],
   "source": [
    "import nltk\n",
    "from nltk.sentiment import SentimentIntensityAnalyzer\n",
    "\n",
    "### the function analyze_sentiment takes a text and displays the degree of positivity,\n",
    "### negativity and neutrality \n",
    "def analyze_sentiment(text):\n",
    "    # Initialize the Sentiment Intensity Analyzer\n",
    "    sia = SentimentIntensityAnalyzer()\n",
    "    \n",
    "    # Get the sentiment scores\n",
    "    sentiment_scores = sia.polarity_scores(text)\n",
    "    \n",
    "    return sentiment_scores\n",
    "\n",
    "# Test the function with three different text inputs\n",
    "text1 = \"I had an amazing time at the concert last night!\"\n",
    "text2 = \"The weather today is terrible and ruining my plans.\"\n",
    "text3 = \"This movie was mediocre, not great but not bad either.\"\n",
    "\n",
    "print(\"Sentiment scores for text1:\", analyze_sentiment(text1))\n",
    "print(\"Sentiment scores for text2:\", analyze_sentiment(text2))\n",
    "print(\"Sentiment scores for text3:\", analyze_sentiment(text3))\n"
   ]
  },
  {
   "cell_type": "code",
   "execution_count": 12,
   "id": "2ec7eebb",
   "metadata": {},
   "outputs": [
    {
     "name": "stdout",
     "output_type": "stream",
     "text": [
      "Original text: The children are playing in the gardens\n",
      "Lemmatized text: The child be play in the garden\n",
      "Sentiment scores for lemma text: {'neg': 0.0, 'neu': 0.769, 'pos': 0.231, 'compound': 0.2023}\n"
     ]
    }
   ],
   "source": [
    "from nltk.stem import WordNetLemmatizer\n",
    "from nltk.tokenize import word_tokenize\n",
    "import nltk\n",
    "from nltk.corpus import wordnet\n",
    "\n",
    "### necessary packages for language processing\n",
    "### uncomment if you have not previously downloaded\n",
    "# nltk.download('wordnet')\n",
    "# nltk.download('punkt')\n",
    "\n",
    "### the get_wordnet_pos function returns the part of speech a particular word belongs to\n",
    "def get_wordnet_pos(treebank_tag):\n",
    "\n",
    "    if treebank_tag.startswith('J'):\n",
    "        return wordnet.ADJ\n",
    "    elif treebank_tag.startswith('V'):\n",
    "        return wordnet.VERB\n",
    "    elif treebank_tag.startswith('N'):\n",
    "        return wordnet.NOUN\n",
    "    elif treebank_tag.startswith('R'):\n",
    "        return wordnet.ADV\n",
    "    else:\n",
    "        return wordnet.NOUN\n",
    "\n",
    "\n",
    "### the function lemmatize_text takes a text and reduces it to its root stage.\n",
    "### this has been modified to work for different parts of speech\n",
    "def lemmatize_text(text):\n",
    "    lemmatizer = WordNetLemmatizer()\n",
    "    tokens = word_tokenize(text)\n",
    "    lemmatized_text = ' '.join([lemmatizer.lemmatize(token, pos=get_wordnet_pos(nltk.pos_tag([token])[0][1])) for token in tokens])\n",
    "    return lemmatized_text\n",
    "\n",
    "# Example usage\n",
    "text = \"The children are playing in the gardens\"\n",
    "lemmatized_text = lemmatize_text(text)\n",
    "print(\"Original text:\", text)\n",
    "print(\"Lemmatized text:\", lemmatized_text)\n",
    "print(\"Sentiment scores for lemma text:\", analyze_sentiment(text))\n"
   ]
  },
  {
   "cell_type": "code",
   "execution_count": null,
   "id": "114d40f9",
   "metadata": {},
   "outputs": [],
   "source": []
  }
 ],
 "metadata": {
  "kernelspec": {
   "display_name": "Python 3 (ipykernel)",
   "language": "python",
   "name": "python3"
  },
  "language_info": {
   "codemirror_mode": {
    "name": "ipython",
    "version": 3
   },
   "file_extension": ".py",
   "mimetype": "text/x-python",
   "name": "python",
   "nbconvert_exporter": "python",
   "pygments_lexer": "ipython3",
   "version": "3.11.4"
  },
  "toc": {
   "base_numbering": 1,
   "nav_menu": {},
   "number_sections": true,
   "sideBar": true,
   "skip_h1_title": false,
   "title_cell": "Table of Contents",
   "title_sidebar": "Contents",
   "toc_cell": false,
   "toc_position": {},
   "toc_section_display": true,
   "toc_window_display": false
  }
 },
 "nbformat": 4,
 "nbformat_minor": 5
}
